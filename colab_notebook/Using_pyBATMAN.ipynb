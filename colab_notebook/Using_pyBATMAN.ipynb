{
  "nbformat": 4,
  "nbformat_minor": 0,
  "metadata": {
    "colab": {
      "provenance": []
    },
    "kernelspec": {
      "name": "python3",
      "display_name": "Python 3"
    },
    "language_info": {
      "name": "python"
    }
  },
  "cells": [
    {
      "cell_type": "code",
      "execution_count": null,
      "metadata": {
        "id": "X-nt59KfsnJv",
        "colab": {
          "base_uri": "https://localhost:8080/"
        },
        "outputId": "b9295903-0e98-49a3-bfed-fbbc9827920e"
      },
      "outputs": [
        {
          "output_type": "stream",
          "name": "stdout",
          "text": [
            "There is only one alternative in link group python3 (providing /usr/bin/python3): /usr/bin/python3.11\n",
            "Nothing to configure.\n",
            "  % Total    % Received % Xferd  Average Speed   Time    Time     Time  Current\n",
            "                                 Dload  Upload   Total   Spent    Left  Speed\n",
            "100 2570k  100 2570k    0     0  9818k      0 --:--:-- --:--:-- --:--:-- 9848k\n",
            "\u001b[33mWARNING: Running pip as the 'root' user can result in broken permissions and conflicting behaviour with the system package manager. It is recommended to use a virtual environment instead: https://pip.pypa.io/warnings/venv\u001b[0m\u001b[33m\n",
            "\u001b[0m"
          ]
        }
      ],
      "source": [
        "# Install python v3.11 to work with pyBATMAN\n",
        "!sudo apt-get update -y -qq\n",
        "!sudo apt-get install -qq python3.11 python3.11-dev python3.11-distutils libpython3.11-dev\n",
        "!sudo update-alternatives --install /usr/bin/python3 python3 /usr/bin/python3.11 2\n",
        "!sudo update-alternatives --config python3\n",
        "\n",
        "# install pip\n",
        "!curl https://bootstrap.pypa.io/get-pip.py -o get-pip.py\n",
        "!python3 get-pip.py --force-reinstall -qq"
      ]
    },
    {
      "cell_type": "code",
      "source": [
        "# Install pyBATMAN and add it to system path\n",
        "!pip install pybatman -qq\n",
        "import sys\n",
        "sys.path.append(\"/usr/local/lib/python3.11/dist-packages\")"
      ],
      "metadata": {
        "colab": {
          "base_uri": "https://localhost:8080/"
        },
        "id": "JOLa1U90vHZR",
        "outputId": "5355dd1a-5e36-49aa-f6a6-ba1e79f9fde9"
      },
      "execution_count": null,
      "outputs": [
        {
          "output_type": "stream",
          "name": "stdout",
          "text": [
            "\u001b[33mWARNING: Running pip as the 'root' user can result in broken permissions and conflicting behaviour with the system package manager. It is recommended to use a virtual environment instead: https://pip.pypa.io/warnings/venv\u001b[0m\u001b[33m\n",
            "\u001b[0m"
          ]
        }
      ]
    },
    {
      "cell_type": "code",
      "source": [
        "# Load two main functions from pyBATMAN\n",
        "from pybatman.functions import train, peptide2index"
      ],
      "metadata": {
        "id": "McTad4v004Qb"
      },
      "execution_count": null,
      "outputs": []
    },
    {
      "cell_type": "code",
      "source": [
        "# Import packages for downstream analysis of BATMAN outputs\n",
        "import numpy as np\n",
        "import pandas as pd\n",
        "import matplotlib.pyplot as plt"
      ],
      "metadata": {
        "id": "4UkgiHZy2gQi"
      },
      "execution_count": null,
      "outputs": []
    },
    {
      "cell_type": "code",
      "source": [
        "#Train pyBATMAN on test data and infer full asymmetric AA matrix and TCR-specific weights\n",
        "# (Note that for some reason, pyBATMAN is not able to load AA matrix data, so we supply it ourselves)\n",
        "inferred_weights, inferred_AA_matrix = train('sample_data/test_input.csv','full')"
      ],
      "metadata": {
        "colab": {
          "base_uri": "https://localhost:8080/",
          "height": 196
        },
        "id": "L_W4KyD_31RM",
        "outputId": "0bf2c7ef-9cb7-498e-9970-e50b711a312c"
      },
      "execution_count": null,
      "outputs": [
        {
          "output_type": "error",
          "ename": "SystemExit",
          "evalue": "ignored",
          "traceback": [
            "An exception has occurred, use %tb to see the full traceback.\n",
            "\u001b[0;31mSystemExit\u001b[0m\u001b[0;31m:\u001b[0m AA matrix BLOSUM100 does not exist. Check spelling and use all lower cases. You can also define your custom matrix as a 20-by-20 pandas DataFrame with AAs as row and column names.\n"
          ]
        },
        {
          "output_type": "stream",
          "name": "stderr",
          "text": [
            "/usr/local/lib/python3.10/dist-packages/IPython/core/interactiveshell.py:3561: UserWarning: To exit: use 'exit', 'quit', or Ctrl-D.\n",
            "  warn(\"To exit: use 'exit', 'quit', or Ctrl-D.\", stacklevel=1)\n"
          ]
        }
      ]
    },
    {
      "cell_type": "code",
      "source": [
        "#visualize inferred matrix, plot auc, clustering of peptides, different training modes"
      ],
      "metadata": {
        "id": "BFYS3Y2k56sH"
      },
      "execution_count": null,
      "outputs": []
    }
  ]
}