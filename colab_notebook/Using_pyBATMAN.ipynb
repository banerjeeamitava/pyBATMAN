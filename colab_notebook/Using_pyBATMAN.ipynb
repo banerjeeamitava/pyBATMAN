{
  "nbformat": 4,
  "nbformat_minor": 0,
  "metadata": {
    "colab": {
      "provenance": []
    },
    "kernelspec": {
      "name": "python3",
      "display_name": "Python 3"
    },
    "language_info": {
      "name": "python"
    }
  },
  "cells": [
    {
      "cell_type": "code",
      "execution_count": null,
      "metadata": {
        "id": "X-nt59KfsnJv",
        "colab": {
          "base_uri": "https://localhost:8080/"
        },
        "outputId": "2216a947-b0d0-4491-aea1-dea02e14423e"
      },
      "outputs": [
        {
          "output_type": "stream",
          "name": "stdout",
          "text": [
            "There is only one alternative in link group python3 (providing /usr/bin/python3): /usr/bin/python3.11\n",
            "Nothing to configure.\n",
            "  % Total    % Received % Xferd  Average Speed   Time    Time     Time  Current\n",
            "                                 Dload  Upload   Total   Spent    Left  Speed\n",
            "100 2570k  100 2570k    0     0  14.6M      0 --:--:-- --:--:-- --:--:-- 14.5M\n",
            "\u001b[33mWARNING: Running pip as the 'root' user can result in broken permissions and conflicting behaviour with the system package manager. It is recommended to use a virtual environment instead: https://pip.pypa.io/warnings/venv\u001b[0m\u001b[33m\n",
            "\u001b[0m"
          ]
        }
      ],
      "source": [
        "# Install python v3.11 to work with pyBATMAN\n",
        "!sudo apt-get update -y -qq\n",
        "!sudo apt-get install -qq python3.11 python3.11-dev python3.11-distutils libpython3.11-dev\n",
        "!sudo update-alternatives --install /usr/bin/python3 python3 /usr/bin/python3.11 2\n",
        "!sudo update-alternatives --config python3\n",
        "\n",
        "# install pip\n",
        "!curl https://bootstrap.pypa.io/get-pip.py -o get-pip.py\n",
        "!python3 get-pip.py --force-reinstall -qq\n",
        "\n",
        "# Add packages to system path\n",
        "import sys\n",
        "sys.path.append(\"/usr/local/lib/python3.11/dist-packages\")"
      ]
    },
    {
      "cell_type": "code",
      "source": [
        "# Install pyBATMAN\n",
        "!pip install pybatman -qq"
      ],
      "metadata": {
        "colab": {
          "base_uri": "https://localhost:8080/"
        },
        "id": "JOLa1U90vHZR",
        "outputId": "498b12a8-552f-4dd6-ddcd-a3b464be8f91"
      },
      "execution_count": null,
      "outputs": [
        {
          "output_type": "stream",
          "name": "stdout",
          "text": [
            "\u001b[33mWARNING: Running pip as the 'root' user can result in broken permissions and conflicting behaviour with the system package manager. It is recommended to use a virtual environment instead: https://pip.pypa.io/warnings/venv\u001b[0m\u001b[33m\n",
            "\u001b[0m"
          ]
        }
      ]
    },
    {
      "cell_type": "code",
      "source": [
        "# Load two main functions from pyBATMAN\n",
        "from pybatman.functions import train, peptide2index"
      ],
      "metadata": {
        "id": "McTad4v004Qb"
      },
      "execution_count": null,
      "outputs": []
    },
    {
      "cell_type": "code",
      "source": [
        "# Import packages for downstream analysis of BATMAN outputs\n",
        "import numpy as np\n",
        "import pandas as pd\n",
        "import matplotlib.pyplot as plt"
      ],
      "metadata": {
        "id": "4UkgiHZy2gQi"
      },
      "execution_count": null,
      "outputs": []
    },
    {
      "cell_type": "code",
      "source": [
        "# (Note that for some reason, pyBATMAN is not able to load AA matrix data, so we supply it ourselves)\n",
        "AA_matrix_prior = pd.read_csv('blosum100.csv',index_col=0)"
      ],
      "metadata": {
        "id": "FJtNVS7FIpdF"
      },
      "execution_count": null,
      "outputs": []
    },
    {
      "cell_type": "code",
      "source": [
        "#Train pyBATMAN and infer full asymmetric AA matrix and TCR-specific weights (takes ~5m to run)\n",
        "inferred_weights, inferred_AA_matrix = train('test_input.csv','full',AA_matrix_prior)"
      ],
      "metadata": {
        "colab": {
          "base_uri": "https://localhost:8080/",
          "height": 109
        },
        "id": "L_W4KyD_31RM",
        "outputId": "346ae466-c8ac-4a67-b3a5-3f86815b1bdf"
      },
      "execution_count": null,
      "outputs": [
        {
          "output_type": "display_data",
          "data": {
            "text/plain": [
              "<IPython.core.display.HTML object>"
            ],
            "text/html": [
              "\n",
              "<style>\n",
              "    /* Turns off some styling */\n",
              "    progress {\n",
              "        /* gets rid of default border in Firefox and Opera. */\n",
              "        border: none;\n",
              "        /* Needs to be in here for Safari polyfill so background images work as expected. */\n",
              "        background-size: auto;\n",
              "    }\n",
              "    progress:not([value]), progress:not([value])::-webkit-progress-bar {\n",
              "        background: repeating-linear-gradient(45deg, #7e7e7e, #7e7e7e 10px, #5c5c5c 10px, #5c5c5c 20px);\n",
              "    }\n",
              "    .progress-bar-interrupted, .progress-bar-interrupted::-webkit-progress-bar {\n",
              "        background: #F44336;\n",
              "    }\n",
              "</style>\n"
            ]
          },
          "metadata": {}
        },
        {
          "output_type": "display_data",
          "data": {
            "text/plain": [
              "<IPython.core.display.HTML object>"
            ],
            "text/html": [
              "\n",
              "    <div>\n",
              "      <progress value='20000' class='' max='20000' style='width:300px; height:20px; vertical-align: middle;'></progress>\n",
              "      100.00% [20000/20000 00:28&lt;00:00 Average Loss = 1,076]\n",
              "    </div>\n",
              "    "
            ]
          },
          "metadata": {}
        },
        {
          "output_type": "stream",
          "name": "stderr",
          "text": [
            "/usr/local/lib/python3.10/dist-packages/arviz/utils.py:184: NumbaDeprecationWarning: The 'nopython' keyword argument was not supplied to the 'numba.jit' decorator. The implicit default value for this argument is currently False, but it will be changed to True in Numba 0.59.0. See https://numba.readthedocs.io/en/stable/reference/deprecation.html#deprecation-of-object-mode-fall-back-behaviour-when-using-jit for details.\n",
            "  numba_fn = numba.jit(**self.kwargs)(self.function)\n",
            "Shape validation failed: input_shape: (1, 50000), minimum_shape: (chains=2, draws=4)\n"
          ]
        }
      ]
    },
    {
      "cell_type": "code",
      "source": [
        "#Generate peptide2index distances for a selected TCR with trained pyBATMAN\n",
        "#Read data\n",
        "peptide_data = pd.read_csv('test_input.csv')\n",
        "\n",
        "# Extract data for a particular TCR\n",
        "tcr_name = 'TCR1'\n",
        "\n",
        "index_peptide = peptide_data[peptide_data.tcr==tcr_name]['index'].tolist()\n",
        "\n",
        "mutant_peptide_list = peptide_data[peptide_data.tcr==\n",
        "                                   tcr_name]['peptide'].tolist()\n",
        "\n",
        "# Inferred positional weight profile for the selected TCR\n",
        "weight_profile = inferred_weights.loc[[tcr_name]].to_numpy()\n",
        "\n",
        "# generate peptide-to-index distances with pyBATMAN\n",
        "peptide_distance = peptide2index(index_peptide,\n",
        "                                 mutant_peptide_list,\n",
        "                                 inferred_AA_matrix,\n",
        "                                 weight_profile)"
      ],
      "metadata": {
        "id": "PW6_lx4cOntI"
      },
      "execution_count": 90,
      "outputs": []
    },
    {
      "cell_type": "code",
      "source": [
        "#plot histogram of peptides-to-index distances for 3 classes\n",
        "\n",
        "activation_level = peptide_data[peptide_data.tcr\n",
        "                                ==tcr_name]['activation'].to_numpy()\n",
        "bins = np.linspace(0, 6, 20)\n",
        "plt.hist([peptide_distance[activation_level == 2],\n",
        "          peptide_distance[activation_level == 1],\n",
        "          peptide_distance[activation_level == 0]],\n",
        "         bins, label=['strong activation', 'weak activation', 'no activation'])\n",
        "plt.xlabel('Peptide to index distance')\n",
        "plt.ylabel('Count')\n",
        "plt.show()"
      ],
      "metadata": {
        "colab": {
          "base_uri": "https://localhost:8080/",
          "height": 555
        },
        "id": "dOfB-jyIO93c",
        "outputId": "45339087-065d-4a15-cd4c-6a5f0ddfcf07"
      },
      "execution_count": 91,
      "outputs": [
        {
          "output_type": "display_data",
          "data": {
            "text/plain": [
              "<Figure size 640x480 with 1 Axes>"
            ],
            "image/png": "[encoded data removed]"
          },
          "metadata": {}
        }
      ]
    },
    {
      "cell_type": "code",
      "source": [
        "#visualize inferred matrices (symm and antisymm part), plot auc, clustering of peptides,\n",
        "# different training modes, within TCR and cross-TCR"
      ],
      "metadata": {
        "id": "BFYS3Y2k56sH"
      },
      "execution_count": null,
      "outputs": []
    }
  ]
}